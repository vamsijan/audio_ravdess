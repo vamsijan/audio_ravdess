{
 "cells": [
  {
   "cell_type": "code",
   "execution_count": 1,
   "id": "fd0f6736",
   "metadata": {
    "execution": {
     "iopub.execute_input": "2023-12-27T15:13:21.221190Z",
     "iopub.status.busy": "2023-12-27T15:13:21.220150Z",
     "iopub.status.idle": "2023-12-27T15:13:33.965509Z",
     "shell.execute_reply": "2023-12-27T15:13:33.964384Z"
    },
    "papermill": {
     "duration": 12.764627,
     "end_time": "2023-12-27T15:13:33.968383",
     "exception": false,
     "start_time": "2023-12-27T15:13:21.203756",
     "status": "completed"
    },
    "tags": []
   },
   "outputs": [
    {
     "name": "stdout",
     "output_type": "stream",
     "text": [
      "Requirement already satisfied: keras==2.6 in /opt/conda/lib/python3.7/site-packages (2.6.0)\r\n",
      "\u001b[33mWARNING: Running pip as the 'root' user can result in broken permissions and conflicting behaviour with the system package manager. It is recommended to use a virtual environment instead: https://pip.pypa.io/warnings/venv\u001b[0m\u001b[33m\r\n",
      "\u001b[0m"
     ]
    }
   ],
   "source": [
    "!pip install keras==2.6"
   ]
  },
  {
   "cell_type": "markdown",
   "id": "cc3ae478",
   "metadata": {
    "papermill": {
     "duration": 0.012664,
     "end_time": "2023-12-27T15:13:33.994501",
     "exception": false,
     "start_time": "2023-12-27T15:13:33.981837",
     "status": "completed"
    },
    "tags": []
   },
   "source": [
    "# Importing Libraries"
   ]
  },
  {
   "cell_type": "code",
   "execution_count": 2,
   "id": "66130c40",
   "metadata": {
    "execution": {
     "iopub.execute_input": "2023-12-27T15:13:34.023766Z",
     "iopub.status.busy": "2023-12-27T15:13:34.023321Z",
     "iopub.status.idle": "2023-12-27T15:13:41.055190Z",
     "shell.execute_reply": "2023-12-27T15:13:41.054034Z"
    },
    "papermill": {
     "duration": 7.050788,
     "end_time": "2023-12-27T15:13:41.058063",
     "exception": false,
     "start_time": "2023-12-27T15:13:34.007275",
     "status": "completed"
    },
    "tags": []
   },
   "outputs": [
    {
     "name": "stderr",
     "output_type": "stream",
     "text": [
      "[nltk_data] Downloading package stopwords to /usr/share/nltk_data...\n",
      "[nltk_data]   Package stopwords is already up-to-date!\n"
     ]
    }
   ],
   "source": [
    "import numpy as np\n",
    "import pandas as pd\n",
    "import os\n",
    "import warnings\n",
    "warnings.filterwarnings(\"ignore\")\n",
    "\n",
    "# For preprocessing\n",
    "import re \n",
    "import nltk\n",
    "import string\n",
    "nltk.download(\"stopwords\")\n",
    "from nltk.corpus import stopwords\n",
    "from nltk.stem.porter import *\n",
    "from nltk.stem import SnowballStemmer\n",
    "import pickle\n",
    "from collections import Counter  #to count elements in list\n",
    "\n",
    "# For Building the model\n",
    "from sklearn.model_selection import train_test_split\n",
    "from sklearn.preprocessing import LabelEncoder\n",
    "from sklearn.feature_extraction.text import CountVectorizer\n",
    "from tensorflow.keras.layers import *\n",
    "from tensorflow.keras.models import *\n",
    "from tensorflow.keras.layers import *\n",
    "from tensorflow.keras.callbacks import *\n",
    "from tensorflow.keras.initializers import *\n",
    "\n",
    "#For data visualization\n",
    "import matplotlib.pyplot as plt\n",
    "import matplotlib.patches as mpatches\n",
    "from matplotlib import ticker\n",
    "%matplotlib inline\n",
    "import seaborn as sns"
   ]
  },
  {
   "cell_type": "markdown",
   "id": "5a15e861",
   "metadata": {
    "papermill": {
     "duration": 0.014218,
     "end_time": "2023-12-27T15:13:41.087738",
     "exception": false,
     "start_time": "2023-12-27T15:13:41.073520",
     "status": "completed"
    },
    "tags": []
   },
   "source": [
    "# Reading the dataset"
   ]
  },
  {
   "cell_type": "code",
   "execution_count": 3,
   "id": "5e1adbe2",
   "metadata": {
    "execution": {
     "iopub.execute_input": "2023-12-27T15:13:41.119706Z",
     "iopub.status.busy": "2023-12-27T15:13:41.118524Z",
     "iopub.status.idle": "2023-12-27T15:13:41.138910Z",
     "shell.execute_reply": "2023-12-27T15:13:41.138011Z"
    },
    "papermill": {
     "duration": 0.039147,
     "end_time": "2023-12-27T15:13:41.141465",
     "exception": false,
     "start_time": "2023-12-27T15:13:41.102318",
     "status": "completed"
    },
    "tags": []
   },
   "outputs": [],
   "source": [
    "df = pd.read_csv('/kaggle/input/se2015-restaurants/restaurants.csv')"
   ]
  },
  {
   "cell_type": "markdown",
   "id": "4f7a902b",
   "metadata": {
    "papermill": {
     "duration": 0.014323,
     "end_time": "2023-12-27T15:13:41.170667",
     "exception": false,
     "start_time": "2023-12-27T15:13:41.156344",
     "status": "completed"
    },
    "tags": []
   },
   "source": [
    "# Final Cleaning"
   ]
  },
  {
   "cell_type": "code",
   "execution_count": 4,
   "id": "08a7751a",
   "metadata": {
    "execution": {
     "iopub.execute_input": "2023-12-27T15:13:41.201622Z",
     "iopub.status.busy": "2023-12-27T15:13:41.200759Z",
     "iopub.status.idle": "2023-12-27T15:13:41.249483Z",
     "shell.execute_reply": "2023-12-27T15:13:41.248520Z"
    },
    "papermill": {
     "duration": 0.066634,
     "end_time": "2023-12-27T15:13:41.251826",
     "exception": false,
     "start_time": "2023-12-27T15:13:41.185192",
     "status": "completed"
    },
    "tags": []
   },
   "outputs": [],
   "source": [
    "df['text'] = df['text'].str.replace('\\d+', '')\n",
    "df[\"text\"] = df[\"text\"].str.replace(\"?\",\" \")\n",
    "df[\"text\"] = df[\"text\"].str.replace(\"!\",\" \")\n",
    "df[\"text\"] = df[\"text\"].str.replace(\"_\",\" \")\n",
    "df[\"text\"] = df[\"text\"].str.replace(\",\",\" \")\n",
    "df[\"text\"] = df[\"text\"].str.replace(\"&\",\" \")\n",
    "df[\"text\"] = df[\"text\"].str.replace(\"\\n\",\" \")\n",
    "df[\"text\"] = df[\"text\"].str.replace(\"/\",\" \")\n",
    "df[\"text\"] = df[\"text\"].str.replace(\"-\",\" \")\n",
    "df[\"text\"] = df[\"text\"].str.replace(\"$\",\" \")\n",
    "df[\"text\"] = df[\"text\"].str.replace(\"\\r\",\" \")\n",
    "df[\"text\"] = df[\"text\"].str.replace(\".\",\" \")\n",
    "df[\"text\"] = df[\"text\"].str.replace(\"~\",\" \")\n",
    "df[\"text\"] = df[\"text\"].str.replace(\"[\",\" \")\n",
    "df[\"text\"] = df[\"text\"].str.replace(\"]\",\" \")"
   ]
  },
  {
   "cell_type": "code",
   "execution_count": 5,
   "id": "f988822b",
   "metadata": {
    "execution": {
     "iopub.execute_input": "2023-12-27T15:13:41.282258Z",
     "iopub.status.busy": "2023-12-27T15:13:41.281867Z",
     "iopub.status.idle": "2023-12-27T15:13:41.347637Z",
     "shell.execute_reply": "2023-12-27T15:13:41.346537Z"
    },
    "papermill": {
     "duration": 0.084304,
     "end_time": "2023-12-27T15:13:41.350531",
     "exception": false,
     "start_time": "2023-12-27T15:13:41.266227",
     "status": "completed"
    },
    "tags": []
   },
   "outputs": [],
   "source": [
    "stop_words = stopwords.words('english')\n",
    "df['text'] = df['text'].apply(lambda x: ' '.join([word for word in x.split() if word not in (stop_words)]))"
   ]
  },
  {
   "cell_type": "code",
   "execution_count": 6,
   "id": "c3018dc7",
   "metadata": {
    "execution": {
     "iopub.execute_input": "2023-12-27T15:13:41.380181Z",
     "iopub.status.busy": "2023-12-27T15:13:41.379376Z",
     "iopub.status.idle": "2023-12-27T15:13:41.389569Z",
     "shell.execute_reply": "2023-12-27T15:13:41.388610Z"
    },
    "papermill": {
     "duration": 0.02748,
     "end_time": "2023-12-27T15:13:41.391831",
     "exception": false,
     "start_time": "2023-12-27T15:13:41.364351",
     "status": "completed"
    },
    "tags": []
   },
   "outputs": [
    {
     "data": {
      "text/plain": [
       "0"
      ]
     },
     "execution_count": 6,
     "metadata": {},
     "output_type": "execute_result"
    }
   ],
   "source": [
    "df['text'].isna().sum()"
   ]
  },
  {
   "cell_type": "code",
   "execution_count": 7,
   "id": "a65ad54a",
   "metadata": {
    "_cell_guid": "b1076dfc-b9ad-4769-8c92-a6c4dae69d19",
    "_uuid": "8f2839f25d086af736a60e9eeb907d3b93b6e0e5",
    "execution": {
     "iopub.execute_input": "2023-12-27T15:13:41.421328Z",
     "iopub.status.busy": "2023-12-27T15:13:41.420558Z",
     "iopub.status.idle": "2023-12-27T15:13:41.426795Z",
     "shell.execute_reply": "2023-12-27T15:13:41.425781Z"
    },
    "papermill": {
     "duration": 0.023449,
     "end_time": "2023-12-27T15:13:41.428958",
     "exception": false,
     "start_time": "2023-12-27T15:13:41.405509",
     "status": "completed"
    },
    "tags": []
   },
   "outputs": [],
   "source": [
    "def text_to_words(text):\n",
    "# tokenize\n",
    "    words = text.split()\n",
    "    # remove stopwords\n",
    "    words = [w for w in words if w not in stopwords.words(\"english\")]\n",
    "    # apply stemming\n",
    "    words = [PorterStemmer().stem(w) for w in words]\n",
    "    # return list\n",
    "    return words"
   ]
  },
  {
   "cell_type": "code",
   "execution_count": 8,
   "id": "2a572296",
   "metadata": {
    "execution": {
     "iopub.execute_input": "2023-12-27T15:13:41.458654Z",
     "iopub.status.busy": "2023-12-27T15:13:41.458276Z",
     "iopub.status.idle": "2023-12-27T15:13:43.900308Z",
     "shell.execute_reply": "2023-12-27T15:13:43.899231Z"
    },
    "papermill": {
     "duration": 2.459464,
     "end_time": "2023-12-27T15:13:43.902571",
     "exception": false,
     "start_time": "2023-12-27T15:13:41.443107",
     "status": "completed"
    },
    "tags": []
   },
   "outputs": [
    {
     "data": {
      "text/plain": [
       "1654"
      ]
     },
     "execution_count": 8,
     "metadata": {},
     "output_type": "execute_result"
    }
   ],
   "source": [
    "X = list(map(text_to_words, df['text']))\n",
    "len(X)"
   ]
  },
  {
   "cell_type": "code",
   "execution_count": 9,
   "id": "8ea32e8f",
   "metadata": {
    "execution": {
     "iopub.execute_input": "2023-12-27T15:13:43.932136Z",
     "iopub.status.busy": "2023-12-27T15:13:43.931693Z",
     "iopub.status.idle": "2023-12-27T15:13:43.947936Z",
     "shell.execute_reply": "2023-12-27T15:13:43.947013Z"
    },
    "papermill": {
     "duration": 0.03425,
     "end_time": "2023-12-27T15:13:43.950369",
     "exception": false,
     "start_time": "2023-12-27T15:13:43.916119",
     "status": "completed"
    },
    "tags": []
   },
   "outputs": [],
   "source": [
    "df['polarity'][df[\"polarity\"] == 'negative'] = 0\n",
    "df['polarity'][df[\"polarity\"] == 'positive'] = 1\n",
    "df['polarity'][df[\"polarity\"] == 'neutral'] = 2"
   ]
  },
  {
   "cell_type": "code",
   "execution_count": 10,
   "id": "c3918c16",
   "metadata": {
    "execution": {
     "iopub.execute_input": "2023-12-27T15:13:43.979609Z",
     "iopub.status.busy": "2023-12-27T15:13:43.979209Z",
     "iopub.status.idle": "2023-12-27T15:13:43.995133Z",
     "shell.execute_reply": "2023-12-27T15:13:43.994036Z"
    },
    "papermill": {
     "duration": 0.033259,
     "end_time": "2023-12-27T15:13:43.997593",
     "exception": false,
     "start_time": "2023-12-27T15:13:43.964334",
     "status": "completed"
    },
    "tags": []
   },
   "outputs": [
    {
     "data": {
      "text/html": [
       "<div>\n",
       "<style scoped>\n",
       "    .dataframe tbody tr th:only-of-type {\n",
       "        vertical-align: middle;\n",
       "    }\n",
       "\n",
       "    .dataframe tbody tr th {\n",
       "        vertical-align: top;\n",
       "    }\n",
       "\n",
       "    .dataframe thead th {\n",
       "        text-align: right;\n",
       "    }\n",
       "</style>\n",
       "<table border=\"1\" class=\"dataframe\">\n",
       "  <thead>\n",
       "    <tr style=\"text-align: right;\">\n",
       "      <th></th>\n",
       "      <th>text</th>\n",
       "      <th>target</th>\n",
       "      <th>category</th>\n",
       "      <th>polarity</th>\n",
       "      <th>from</th>\n",
       "      <th>to</th>\n",
       "    </tr>\n",
       "  </thead>\n",
       "  <tbody>\n",
       "    <tr>\n",
       "      <th>0</th>\n",
       "      <td>Judging previous posts used good place longer</td>\n",
       "      <td>place</td>\n",
       "      <td>RESTAURANT#GENERAL</td>\n",
       "      <td>0</td>\n",
       "      <td>51</td>\n",
       "      <td>56</td>\n",
       "    </tr>\n",
       "    <tr>\n",
       "      <th>1</th>\n",
       "      <td>We four us arrived noon place empty staff acte...</td>\n",
       "      <td>staff</td>\n",
       "      <td>SERVICE#GENERAL</td>\n",
       "      <td>0</td>\n",
       "      <td>75</td>\n",
       "      <td>80</td>\n",
       "    </tr>\n",
       "    <tr>\n",
       "      <th>2</th>\n",
       "      <td>They never brought us complimentary noodles ig...</td>\n",
       "      <td>NaN</td>\n",
       "      <td>SERVICE#GENERAL</td>\n",
       "      <td>0</td>\n",
       "      <td>0</td>\n",
       "      <td>0</td>\n",
       "    </tr>\n",
       "    <tr>\n",
       "      <th>3</th>\n",
       "      <td>The food lousy sweet salty portions tiny</td>\n",
       "      <td>food</td>\n",
       "      <td>FOOD#QUALITY</td>\n",
       "      <td>0</td>\n",
       "      <td>4</td>\n",
       "      <td>8</td>\n",
       "    </tr>\n",
       "    <tr>\n",
       "      <th>4</th>\n",
       "      <td>The food lousy sweet salty portions tiny</td>\n",
       "      <td>portions</td>\n",
       "      <td>FOOD#STYLE_OPTIONS</td>\n",
       "      <td>0</td>\n",
       "      <td>52</td>\n",
       "      <td>60</td>\n",
       "    </tr>\n",
       "  </tbody>\n",
       "</table>\n",
       "</div>"
      ],
      "text/plain": [
       "                                                text    target  \\\n",
       "0      Judging previous posts used good place longer     place   \n",
       "1  We four us arrived noon place empty staff acte...     staff   \n",
       "2  They never brought us complimentary noodles ig...       NaN   \n",
       "3           The food lousy sweet salty portions tiny      food   \n",
       "4           The food lousy sweet salty portions tiny  portions   \n",
       "\n",
       "             category polarity  from  to  \n",
       "0  RESTAURANT#GENERAL        0    51  56  \n",
       "1     SERVICE#GENERAL        0    75  80  \n",
       "2     SERVICE#GENERAL        0     0   0  \n",
       "3        FOOD#QUALITY        0     4   8  \n",
       "4  FOOD#STYLE_OPTIONS        0    52  60  "
      ]
     },
     "execution_count": 10,
     "metadata": {},
     "output_type": "execute_result"
    }
   ],
   "source": [
    "df.head()"
   ]
  },
  {
   "cell_type": "code",
   "execution_count": 11,
   "id": "9edd1701",
   "metadata": {
    "execution": {
     "iopub.execute_input": "2023-12-27T15:13:44.027700Z",
     "iopub.status.busy": "2023-12-27T15:13:44.027256Z",
     "iopub.status.idle": "2023-12-27T15:13:44.036077Z",
     "shell.execute_reply": "2023-12-27T15:13:44.035175Z"
    },
    "papermill": {
     "duration": 0.026272,
     "end_time": "2023-12-27T15:13:44.038400",
     "exception": false,
     "start_time": "2023-12-27T15:13:44.012128",
     "status": "completed"
    },
    "tags": []
   },
   "outputs": [],
   "source": [
    "df = df.drop(['from','to'], axis = 1)"
   ]
  },
  {
   "cell_type": "code",
   "execution_count": 12,
   "id": "390aacb9",
   "metadata": {
    "execution": {
     "iopub.execute_input": "2023-12-27T15:13:44.067928Z",
     "iopub.status.busy": "2023-12-27T15:13:44.067538Z",
     "iopub.status.idle": "2023-12-27T15:13:44.079842Z",
     "shell.execute_reply": "2023-12-27T15:13:44.078898Z"
    },
    "papermill": {
     "duration": 0.029901,
     "end_time": "2023-12-27T15:13:44.082251",
     "exception": false,
     "start_time": "2023-12-27T15:13:44.052350",
     "status": "completed"
    },
    "tags": []
   },
   "outputs": [
    {
     "data": {
      "text/html": [
       "<div>\n",
       "<style scoped>\n",
       "    .dataframe tbody tr th:only-of-type {\n",
       "        vertical-align: middle;\n",
       "    }\n",
       "\n",
       "    .dataframe tbody tr th {\n",
       "        vertical-align: top;\n",
       "    }\n",
       "\n",
       "    .dataframe thead th {\n",
       "        text-align: right;\n",
       "    }\n",
       "</style>\n",
       "<table border=\"1\" class=\"dataframe\">\n",
       "  <thead>\n",
       "    <tr style=\"text-align: right;\">\n",
       "      <th></th>\n",
       "      <th>text</th>\n",
       "      <th>target</th>\n",
       "      <th>category</th>\n",
       "      <th>polarity</th>\n",
       "    </tr>\n",
       "  </thead>\n",
       "  <tbody>\n",
       "    <tr>\n",
       "      <th>0</th>\n",
       "      <td>Judging previous posts used good place longer</td>\n",
       "      <td>place</td>\n",
       "      <td>RESTAURANT#GENERAL</td>\n",
       "      <td>0</td>\n",
       "    </tr>\n",
       "    <tr>\n",
       "      <th>1</th>\n",
       "      <td>We four us arrived noon place empty staff acte...</td>\n",
       "      <td>staff</td>\n",
       "      <td>SERVICE#GENERAL</td>\n",
       "      <td>0</td>\n",
       "    </tr>\n",
       "    <tr>\n",
       "      <th>2</th>\n",
       "      <td>They never brought us complimentary noodles ig...</td>\n",
       "      <td>NaN</td>\n",
       "      <td>SERVICE#GENERAL</td>\n",
       "      <td>0</td>\n",
       "    </tr>\n",
       "    <tr>\n",
       "      <th>3</th>\n",
       "      <td>The food lousy sweet salty portions tiny</td>\n",
       "      <td>food</td>\n",
       "      <td>FOOD#QUALITY</td>\n",
       "      <td>0</td>\n",
       "    </tr>\n",
       "    <tr>\n",
       "      <th>4</th>\n",
       "      <td>The food lousy sweet salty portions tiny</td>\n",
       "      <td>portions</td>\n",
       "      <td>FOOD#STYLE_OPTIONS</td>\n",
       "      <td>0</td>\n",
       "    </tr>\n",
       "  </tbody>\n",
       "</table>\n",
       "</div>"
      ],
      "text/plain": [
       "                                                text    target  \\\n",
       "0      Judging previous posts used good place longer     place   \n",
       "1  We four us arrived noon place empty staff acte...     staff   \n",
       "2  They never brought us complimentary noodles ig...       NaN   \n",
       "3           The food lousy sweet salty portions tiny      food   \n",
       "4           The food lousy sweet salty portions tiny  portions   \n",
       "\n",
       "             category polarity  \n",
       "0  RESTAURANT#GENERAL        0  \n",
       "1     SERVICE#GENERAL        0  \n",
       "2     SERVICE#GENERAL        0  \n",
       "3        FOOD#QUALITY        0  \n",
       "4  FOOD#STYLE_OPTIONS        0  "
      ]
     },
     "execution_count": 12,
     "metadata": {},
     "output_type": "execute_result"
    }
   ],
   "source": [
    "df.head()"
   ]
  },
  {
   "cell_type": "code",
   "execution_count": 13,
   "id": "6607bc7a",
   "metadata": {
    "execution": {
     "iopub.execute_input": "2023-12-27T15:13:44.112401Z",
     "iopub.status.busy": "2023-12-27T15:13:44.111982Z",
     "iopub.status.idle": "2023-12-27T15:13:44.119806Z",
     "shell.execute_reply": "2023-12-27T15:13:44.118789Z"
    },
    "papermill": {
     "duration": 0.025795,
     "end_time": "2023-12-27T15:13:44.122207",
     "exception": false,
     "start_time": "2023-12-27T15:13:44.096412",
     "status": "completed"
    },
    "tags": []
   },
   "outputs": [
    {
     "data": {
      "text/plain": [
       "array([0, 1, 2], dtype=object)"
      ]
     },
     "execution_count": 13,
     "metadata": {},
     "output_type": "execute_result"
    }
   ],
   "source": [
    "df['polarity'].unique()"
   ]
  },
  {
   "cell_type": "code",
   "execution_count": 14,
   "id": "5acd347e",
   "metadata": {
    "execution": {
     "iopub.execute_input": "2023-12-27T15:13:44.153414Z",
     "iopub.status.busy": "2023-12-27T15:13:44.153013Z",
     "iopub.status.idle": "2023-12-27T15:13:44.159128Z",
     "shell.execute_reply": "2023-12-27T15:13:44.158022Z"
    },
    "papermill": {
     "duration": 0.024915,
     "end_time": "2023-12-27T15:13:44.161480",
     "exception": false,
     "start_time": "2023-12-27T15:13:44.136565",
     "status": "completed"
    },
    "tags": []
   },
   "outputs": [],
   "source": [
    "# Encode target labels\n",
    "le = LabelEncoder()\n",
    "Y = le.fit_transform(df['polarity'])"
   ]
  },
  {
   "cell_type": "code",
   "execution_count": 15,
   "id": "c13eb935",
   "metadata": {
    "execution": {
     "iopub.execute_input": "2023-12-27T15:13:44.192079Z",
     "iopub.status.busy": "2023-12-27T15:13:44.191656Z",
     "iopub.status.idle": "2023-12-27T15:13:44.205168Z",
     "shell.execute_reply": "2023-12-27T15:13:44.204296Z"
    },
    "papermill": {
     "duration": 0.031455,
     "end_time": "2023-12-27T15:13:44.207510",
     "exception": false,
     "start_time": "2023-12-27T15:13:44.176055",
     "status": "completed"
    },
    "tags": []
   },
   "outputs": [],
   "source": [
    "# Train and test split\n",
    "y = pd.get_dummies(df['polarity'])\n",
    "X_train, X_test, y_train, y_test = train_test_split(X, y,\n",
    "                                                    test_size=0.2, \n",
    "                                                    random_state=1)\n",
    "X_train, X_val, y_train, y_val = train_test_split(X_train, y_train, \n",
    "                                                  test_size=0.25, \n",
    "                                                  random_state=1)"
   ]
  },
  {
   "cell_type": "markdown",
   "id": "a36348a0",
   "metadata": {
    "papermill": {
     "duration": 0.014313,
     "end_time": "2023-12-27T15:13:44.236391",
     "exception": false,
     "start_time": "2023-12-27T15:13:44.222078",
     "status": "completed"
    },
    "tags": []
   },
   "source": [
    "# Bag of words (BOW) feature extraction"
   ]
  },
  {
   "cell_type": "code",
   "execution_count": 16,
   "id": "28413574",
   "metadata": {
    "execution": {
     "iopub.execute_input": "2023-12-27T15:13:44.267062Z",
     "iopub.status.busy": "2023-12-27T15:13:44.266605Z",
     "iopub.status.idle": "2023-12-27T15:13:44.300541Z",
     "shell.execute_reply": "2023-12-27T15:13:44.299599Z"
    },
    "papermill": {
     "duration": 0.052303,
     "end_time": "2023-12-27T15:13:44.303314",
     "exception": false,
     "start_time": "2023-12-27T15:13:44.251011",
     "status": "completed"
    },
    "tags": []
   },
   "outputs": [],
   "source": [
    "vocabulary_size = len(X)\n",
    "\n",
    "count_vector = CountVectorizer(max_features=vocabulary_size,\n",
    "#                               ngram_range=(1,2),    # unigram and bigram\n",
    "                                preprocessor=lambda x: x,\n",
    "                               tokenizer=lambda x: x) \n",
    "\n",
    "# Fit the training data\n",
    "X_train = count_vector.fit_transform(X_train).toarray()\n",
    "\n",
    "# Transform testing data\n",
    "X_test = count_vector.transform(X_test).toarray()"
   ]
  },
  {
   "cell_type": "code",
   "execution_count": 17,
   "id": "1bac0609",
   "metadata": {
    "execution": {
     "iopub.execute_input": "2023-12-27T15:13:44.334165Z",
     "iopub.status.busy": "2023-12-27T15:13:44.333683Z",
     "iopub.status.idle": "2023-12-27T15:13:44.575782Z",
     "shell.execute_reply": "2023-12-27T15:13:44.574697Z"
    },
    "papermill": {
     "duration": 0.259913,
     "end_time": "2023-12-27T15:13:44.577981",
     "exception": false,
     "start_time": "2023-12-27T15:13:44.318068",
     "status": "completed"
    },
    "tags": []
   },
   "outputs": [
    {
     "data": {
      "image/png": "[encoded data removed]",
      "text/plain": [
       "<Figure size 432x288 with 1 Axes>"
      ]
     },
     "metadata": {
      "needs_background": "light"
     },
     "output_type": "display_data"
    }
   ],
   "source": [
    "# Plot the BoW feature vector\n",
    "plt.plot(X_train[2,:])\n",
    "plt.xlabel('Word')\n",
    "plt.ylabel('Count')\n",
    "plt.show()"
   ]
  },
  {
   "cell_type": "code",
   "execution_count": 18,
   "id": "b02edfc3",
   "metadata": {
    "execution": {
     "iopub.execute_input": "2023-12-27T15:13:44.610636Z",
     "iopub.status.busy": "2023-12-27T15:13:44.609762Z",
     "iopub.status.idle": "2023-12-27T15:13:44.616586Z",
     "shell.execute_reply": "2023-12-27T15:13:44.615583Z"
    },
    "papermill": {
     "duration": 0.026023,
     "end_time": "2023-12-27T15:13:44.618747",
     "exception": false,
     "start_time": "2023-12-27T15:13:44.592724",
     "status": "completed"
    },
    "tags": []
   },
   "outputs": [
    {
     "data": {
      "text/plain": [
       "(1654, 4)"
      ]
     },
     "execution_count": 18,
     "metadata": {},
     "output_type": "execute_result"
    }
   ],
   "source": [
    "df.shape"
   ]
  },
  {
   "cell_type": "code",
   "execution_count": 19,
   "id": "b5680c9e",
   "metadata": {
    "execution": {
     "iopub.execute_input": "2023-12-27T15:13:44.651157Z",
     "iopub.status.busy": "2023-12-27T15:13:44.650684Z",
     "iopub.status.idle": "2023-12-27T15:13:44.656276Z",
     "shell.execute_reply": "2023-12-27T15:13:44.655242Z"
    },
    "papermill": {
     "duration": 0.025673,
     "end_time": "2023-12-27T15:13:44.659255",
     "exception": false,
     "start_time": "2023-12-27T15:13:44.633582",
     "status": "completed"
    },
    "tags": []
   },
   "outputs": [
    {
     "name": "stdout",
     "output_type": "stream",
     "text": [
      "1654\n"
     ]
    }
   ],
   "source": [
    "print(len(df))"
   ]
  },
  {
   "cell_type": "code",
   "execution_count": 20,
   "id": "04cd6616",
   "metadata": {
    "execution": {
     "iopub.execute_input": "2023-12-27T15:13:44.691076Z",
     "iopub.status.busy": "2023-12-27T15:13:44.690639Z",
     "iopub.status.idle": "2023-12-27T15:13:44.696186Z",
     "shell.execute_reply": "2023-12-27T15:13:44.695159Z"
    },
    "papermill": {
     "duration": 0.024517,
     "end_time": "2023-12-27T15:13:44.698926",
     "exception": false,
     "start_time": "2023-12-27T15:13:44.674409",
     "status": "completed"
    },
    "tags": []
   },
   "outputs": [
    {
     "name": "stdout",
     "output_type": "stream",
     "text": [
      "RangeIndex(start=0, stop=1654, step=1)\n"
     ]
    }
   ],
   "source": [
    "print(df.index)"
   ]
  },
  {
   "cell_type": "code",
   "execution_count": 21,
   "id": "412ef3a4",
   "metadata": {
    "execution": {
     "iopub.execute_input": "2023-12-27T15:13:44.731956Z",
     "iopub.status.busy": "2023-12-27T15:13:44.730835Z",
     "iopub.status.idle": "2023-12-27T15:13:44.806796Z",
     "shell.execute_reply": "2023-12-27T15:13:44.805624Z"
    },
    "papermill": {
     "duration": 0.095215,
     "end_time": "2023-12-27T15:13:44.809670",
     "exception": false,
     "start_time": "2023-12-27T15:13:44.714455",
     "status": "completed"
    },
    "tags": []
   },
   "outputs": [
    {
     "name": "stdout",
     "output_type": "stream",
     "text": [
      "Before Tokenization & Padding \n",
      " Luckily saved room BBQ Salmon Sea Bass Crispy Duck\n",
      "After Tokenization & Padding \n",
      " [1017 1018  161  418  261  434  728  351  430    0    0    0    0    0\n",
      "    0    0    0    0    0    0    0    0    0    0    0    0    0    0\n",
      "    0    0    0    0]\n"
     ]
    }
   ],
   "source": [
    "from keras.preprocessing.text import Tokenizer\n",
    "from keras.preprocessing.sequence import pad_sequences\n",
    "\n",
    "max_words = vocabulary_size\n",
    "max_len=32 # since average tweet is 28 characters long\n",
    "\n",
    "def tokenize_pad_sequences(text):\n",
    "    '''\n",
    "    This function tokenize the input text into sequnences of intergers and then\n",
    "    pad each sequence to the same length\n",
    "    '''\n",
    "    # Text tokenization\n",
    "    tokenizer = Tokenizer(num_words=max_words, lower=True, split=' ')\n",
    "    tokenizer.fit_on_texts(text)\n",
    "    # Transforms text to a sequence of integers\n",
    "    X = tokenizer.texts_to_sequences(text)\n",
    "    # Pad sequences to the same length\n",
    "    X = pad_sequences(X, padding='post', maxlen=max_len)\n",
    "    # return sequences\n",
    "    return X, tokenizer\n",
    "\n",
    "print('Before Tokenization & Padding \\n', df['text'][1651])\n",
    "X, tokenizer = tokenize_pad_sequences(df['text'])\n",
    "print('After Tokenization & Padding \\n', X[1651])"
   ]
  },
  {
   "cell_type": "code",
   "execution_count": 22,
   "id": "d4679829",
   "metadata": {
    "execution": {
     "iopub.execute_input": "2023-12-27T15:13:44.842369Z",
     "iopub.status.busy": "2023-12-27T15:13:44.841388Z",
     "iopub.status.idle": "2023-12-27T15:13:44.853094Z",
     "shell.execute_reply": "2023-12-27T15:13:44.852129Z"
    },
    "papermill": {
     "duration": 0.03074,
     "end_time": "2023-12-27T15:13:44.855494",
     "exception": false,
     "start_time": "2023-12-27T15:13:44.824754",
     "status": "completed"
    },
    "tags": []
   },
   "outputs": [],
   "source": [
    "# saving\n",
    "with open('tokenizer.pickle', 'wb') as handle:\n",
    "    pickle.dump(tokenizer, handle, protocol=pickle.HIGHEST_PROTOCOL)\n",
    "\n",
    "# loading\n",
    "with open('tokenizer.pickle', 'rb') as handle:\n",
    "    tokenizer = pickle.load(handle)"
   ]
  },
  {
   "cell_type": "code",
   "execution_count": 23,
   "id": "bb3796eb",
   "metadata": {
    "execution": {
     "iopub.execute_input": "2023-12-27T15:13:44.887477Z",
     "iopub.status.busy": "2023-12-27T15:13:44.886775Z",
     "iopub.status.idle": "2023-12-27T15:13:44.899931Z",
     "shell.execute_reply": "2023-12-27T15:13:44.898797Z"
    },
    "papermill": {
     "duration": 0.032941,
     "end_time": "2023-12-27T15:13:44.903390",
     "exception": false,
     "start_time": "2023-12-27T15:13:44.870449",
     "status": "completed"
    },
    "tags": []
   },
   "outputs": [
    {
     "name": "stdout",
     "output_type": "stream",
     "text": [
      "Train Set -> (1058, 32) (1058, 3)\n",
      "Validation Set -> (265, 32) (265, 3)\n",
      "Test Set -> (331, 32) (331, 3)\n"
     ]
    }
   ],
   "source": [
    "## Traintest split\n",
    "\n",
    "y = pd.get_dummies(df['polarity'])\n",
    "X_train, X_test, y_train, y_test = train_test_split(X, y, test_size=0.2, random_state=123)\n",
    "X_train, X_val, y_train, y_val = train_test_split(X_train, y_train, test_size=0.2, random_state=123)\n",
    "print('Train Set ->', X_train.shape, y_train.shape)\n",
    "print('Validation Set ->', X_val.shape, y_val.shape)\n",
    "print('Test Set ->', X_test.shape, y_test.shape)"
   ]
  },
  {
   "cell_type": "code",
   "execution_count": 24,
   "id": "eb8604e1",
   "metadata": {
    "execution": {
     "iopub.execute_input": "2023-12-27T15:13:44.936139Z",
     "iopub.status.busy": "2023-12-27T15:13:44.935207Z",
     "iopub.status.idle": "2023-12-27T15:13:44.941047Z",
     "shell.execute_reply": "2023-12-27T15:13:44.940039Z"
    },
    "papermill": {
     "duration": 0.024938,
     "end_time": "2023-12-27T15:13:44.943365",
     "exception": false,
     "start_time": "2023-12-27T15:13:44.918427",
     "status": "completed"
    },
    "tags": []
   },
   "outputs": [],
   "source": [
    "import keras.backend as K\n",
    "\n",
    "def f1_score(precision, recall):\n",
    "    ''' Function to calculate f1 score '''\n",
    "    \n",
    "    f1_val = 2*(precision*recall)/(precision+recall+K.epsilon())\n",
    "    return f1_val"
   ]
  },
  {
   "cell_type": "markdown",
   "id": "a6e58640",
   "metadata": {
    "execution": {
     "iopub.execute_input": "2022-10-11T04:34:52.200437Z",
     "iopub.status.busy": "2022-10-11T04:34:52.199229Z",
     "iopub.status.idle": "2022-10-11T04:34:52.205887Z",
     "shell.execute_reply": "2022-10-11T04:34:52.204154Z",
     "shell.execute_reply.started": "2022-10-11T04:34:52.200388Z"
    },
    "papermill": {
     "duration": 0.014659,
     "end_time": "2023-12-27T15:13:44.973115",
     "exception": false,
     "start_time": "2023-12-27T15:13:44.958456",
     "status": "completed"
    },
    "tags": []
   },
   "source": [
    "# BiLSTM with attention"
   ]
  },
  {
   "cell_type": "code",
   "execution_count": 25,
   "id": "1bf177f0",
   "metadata": {
    "execution": {
     "iopub.execute_input": "2023-12-27T15:13:45.008297Z",
     "iopub.status.busy": "2023-12-27T15:13:45.007571Z",
     "iopub.status.idle": "2023-12-27T15:13:45.015527Z",
     "shell.execute_reply": "2023-12-27T15:13:45.014619Z"
    },
    "papermill": {
     "duration": 0.026281,
     "end_time": "2023-12-27T15:13:45.017696",
     "exception": false,
     "start_time": "2023-12-27T15:13:44.991415",
     "status": "completed"
    },
    "tags": []
   },
   "outputs": [],
   "source": [
    "from tensorflow.keras import layers\n",
    "\n",
    "from tensorflow.keras.models import Sequential\n",
    "from tensorflow.keras.layers import Embedding, Conv1D, MaxPooling1D, Bidirectional, LSTM, Dense, Dropout\n",
    "from tensorflow.keras.metrics import Precision, Recall\n",
    "from tensorflow.keras.optimizers import RMSprop\n",
    "#from keras import datasets\n",
    "\n",
    "# from keras.callbacks import LearningRateScheduler\n",
    "from keras.callbacks import History\n",
    "\n",
    "from tensorflow.keras import losses"
   ]
  },
  {
   "cell_type": "code",
   "execution_count": 26,
   "id": "133f2355",
   "metadata": {
    "execution": {
     "iopub.execute_input": "2023-12-27T15:13:45.049551Z",
     "iopub.status.busy": "2023-12-27T15:13:45.049150Z",
     "iopub.status.idle": "2023-12-27T15:13:45.068728Z",
     "shell.execute_reply": "2023-12-27T15:13:45.067652Z"
    },
    "papermill": {
     "duration": 0.038344,
     "end_time": "2023-12-27T15:13:45.071266",
     "exception": false,
     "start_time": "2023-12-27T15:13:45.032922",
     "status": "completed"
    },
    "tags": []
   },
   "outputs": [],
   "source": [
    "class Position_Embedding(Layer):\n",
    "    \n",
    "    def __init__(self, size=None, mode='sum', **kwargs):\n",
    "        self.size = size\n",
    "        self.mode = mode\n",
    "        super(Position_Embedding, self).__init__(**kwargs)\n",
    "        \n",
    "    def get_config(self):\n",
    "\n",
    "        config = super().get_config().copy()\n",
    "        config.update({\n",
    "            'size': self.size,\n",
    "            'mode': self.mode\n",
    "        })\n",
    "        return config    \n",
    "        \n",
    "    def call(self, x):\n",
    "        if (self.size == None) or (self.mode == 'sum'):\n",
    "            self.size = int(x.shape[-1])\n",
    "        batch_size,seq_len = K.shape(x)[0],K.shape(x)[1]\n",
    "        position_j = 1. / K.pow(10000., \\\n",
    "                                 2 * K.arange(self.size / 2, dtype='float32' \\\n",
    "                               ) / self.size)\n",
    "        position_j = K.expand_dims(position_j, 0)\n",
    "        position_i = K.cumsum(K.ones_like(x[:,:,0]), 1)-1 \n",
    "        position_i = K.expand_dims(position_i, 2)\n",
    "        position_ij = K.dot(position_i, position_j)\n",
    "        position_ij = K.concatenate([K.cos(position_ij), K.sin(position_ij)], 2)\n",
    "        if self.mode == 'sum':\n",
    "            return position_ij + x\n",
    "        elif self.mode == 'concat':\n",
    "            return K.concatenate([position_ij, x], 2)\n",
    "        \n",
    "    def compute_output_shape(self, input_shape):\n",
    "        if self.mode == 'sum':\n",
    "            return input_shape\n",
    "        elif self.mode == 'concat':\n",
    "            return (input_shape[0], input_shape[1], input_shape[2]+self.size)\n",
    "\n",
    "\n",
    "'''\n",
    "output dimention: [batch_size, time_step, nb_head*size_per_head]\n",
    "every word can be represented as a vector [nb_head*size_per_head]\n",
    "'''\n",
    "class attention(Layer):\n",
    "    \n",
    "    def __init__(self, return_sequences=True):\n",
    "        self.return_sequences = return_sequences\n",
    "        super(attention,self).__init__()\n",
    "        \n",
    "    def build(self, input_shape):\n",
    "        \n",
    "        self.W=self.add_weight(name=\"att_weight\", shape=(input_shape[-1],1),\n",
    "                               initializer=\"normal\")\n",
    "        self.b=self.add_weight(name=\"att_bias\", shape=(input_shape[1],1),\n",
    "                               initializer=\"zeros\")\n",
    "        \n",
    "        super(attention,self).build(input_shape)\n",
    "        \n",
    "    def call(self, x):\n",
    "        \n",
    "        e = K.tanh(K.dot(x,self.W)+self.b)\n",
    "        a = K.softmax(e, axis=1)\n",
    "        output = x*a\n",
    "        \n",
    "        if self.return_sequences:\n",
    "            return output\n",
    "        \n",
    "        return K.sum(output, axis=1)"
   ]
  },
  {
   "cell_type": "code",
   "execution_count": 27,
   "id": "70cee65c",
   "metadata": {
    "execution": {
     "iopub.execute_input": "2023-12-27T15:13:45.104555Z",
     "iopub.status.busy": "2023-12-27T15:13:45.103988Z",
     "iopub.status.idle": "2023-12-27T15:13:49.246118Z",
     "shell.execute_reply": "2023-12-27T15:13:49.244879Z"
    },
    "papermill": {
     "duration": 4.160971,
     "end_time": "2023-12-27T15:13:49.248653",
     "exception": false,
     "start_time": "2023-12-27T15:13:45.087682",
     "status": "completed"
    },
    "tags": []
   },
   "outputs": [
    {
     "name": "stdout",
     "output_type": "stream",
     "text": [
      "Model: \"sequential\"\n",
      "_________________________________________________________________\n",
      "Layer (type)                 Output Shape              Param #   \n",
      "=================================================================\n",
      "embedding (Embedding)        (None, 32, 300)           496200    \n",
      "_________________________________________________________________\n",
      "spatial_dropout1d (SpatialDr (None, 32, 300)           0         \n",
      "_________________________________________________________________\n",
      "conv1d (Conv1D)              (None, 32, 256)           230656    \n",
      "_________________________________________________________________\n",
      "bidirectional (Bidirectional (None, 32, 256)           394240    \n",
      "_________________________________________________________________\n",
      "bidirectional_1 (Bidirection (None, 32, 256)           394240    \n",
      "_________________________________________________________________\n",
      "position__embedding (Positio (None, 32, 256)           0         \n",
      "_________________________________________________________________\n",
      "attention (attention)        (None, 32, 256)           288       \n",
      "_________________________________________________________________\n",
      "global_average_pooling1d (Gl (None, 256)               0         \n",
      "_________________________________________________________________\n",
      "dropout (Dropout)            (None, 256)               0         \n",
      "_________________________________________________________________\n",
      "dense (Dense)                (None, 64)                16448     \n",
      "_________________________________________________________________\n",
      "dropout_1 (Dropout)          (None, 64)                0         \n",
      "_________________________________________________________________\n",
      "dense_1 (Dense)              (None, 3)                 195       \n",
      "=================================================================\n",
      "Total params: 1,532,267\n",
      "Trainable params: 1,532,267\n",
      "Non-trainable params: 0\n",
      "_________________________________________________________________\n"
     ]
    }
   ],
   "source": [
    "vocab_size = len(X)\n",
    "embedding_size = 300\n",
    "\n",
    "model = Sequential()\n",
    "model.add(Embedding(vocab_size, embedding_size, input_length=max_len))\n",
    "model.add(SpatialDropout1D(0.2))\n",
    "model.add(Conv1D(filters=256, kernel_size=3, padding='same', activation='softmax'))\n",
    "#model2.add(MaxPooling1D(pool_size=2))\n",
    "model.add(Bidirectional(LSTM(128, return_sequences=True)))\n",
    "model.add(Bidirectional(LSTM(128, return_sequences=True)))\n",
    "model.add(Position_Embedding())\n",
    "model.add(attention(return_sequences=True)) # receive 3D and output 3D\n",
    "model.add(GlobalAveragePooling1D())\n",
    "model.add(Dropout(0.2))\n",
    "model.add(Dense(64, activation='relu'))\n",
    "model.add(Dropout(0.2))\n",
    "model.add(Dense(3, activation='softmax'))\n",
    "model.summary()"
   ]
  },
  {
   "cell_type": "code",
   "execution_count": 28,
   "id": "c1297d96",
   "metadata": {
    "execution": {
     "iopub.execute_input": "2023-12-27T15:13:49.280040Z",
     "iopub.status.busy": "2023-12-27T15:13:49.279624Z",
     "iopub.status.idle": "2023-12-27T15:13:50.399823Z",
     "shell.execute_reply": "2023-12-27T15:13:50.398643Z"
    },
    "papermill": {
     "duration": 1.142048,
     "end_time": "2023-12-27T15:13:50.405418",
     "exception": false,
     "start_time": "2023-12-27T15:13:49.263370",
     "status": "completed"
    },
    "tags": []
   },
   "outputs": [
    {
     "data": {
      "image/png": "[encoded data removed]",
      "text/plain": [
       "<IPython.core.display.Image object>"
      ]
     },
     "execution_count": 28,
     "metadata": {},
     "output_type": "execute_result"
    }
   ],
   "source": [
    "import tensorflow as tf\n",
    "tf.keras.utils.plot_model(model, show_shapes=True)"
   ]
  },
  {
   "cell_type": "markdown",
   "id": "f522bfc5",
   "metadata": {
    "papermill": {
     "duration": 0.016192,
     "end_time": "2023-12-27T15:13:50.438279",
     "exception": false,
     "start_time": "2023-12-27T15:13:50.422087",
     "status": "completed"
    },
    "tags": []
   },
   "source": [
    "#  Compile model"
   ]
  },
  {
   "cell_type": "code",
   "execution_count": 29,
   "id": "f956aa56",
   "metadata": {
    "execution": {
     "iopub.execute_input": "2023-12-27T15:13:50.473672Z",
     "iopub.status.busy": "2023-12-27T15:13:50.473264Z",
     "iopub.status.idle": "2023-12-27T15:13:50.499607Z",
     "shell.execute_reply": "2023-12-27T15:13:50.498522Z"
    },
    "papermill": {
     "duration": 0.04726,
     "end_time": "2023-12-27T15:13:50.502565",
     "exception": false,
     "start_time": "2023-12-27T15:13:50.455305",
     "status": "completed"
    },
    "tags": []
   },
   "outputs": [],
   "source": [
    "learning_rate = 0.001\n",
    "\n",
    "opt = RMSprop(lr=learning_rate)\n",
    "#opt2 = Adam(lr=learning_rate)\n",
    "model.compile(loss='categorical_crossentropy', optimizer=opt, \n",
    "               metrics=['accuracy',Precision(), Recall()])"
   ]
  },
  {
   "cell_type": "code",
   "execution_count": 30,
   "id": "016939bb",
   "metadata": {
    "execution": {
     "iopub.execute_input": "2023-12-27T15:13:50.543280Z",
     "iopub.status.busy": "2023-12-27T15:13:50.542090Z",
     "iopub.status.idle": "2023-12-27T15:13:50.547827Z",
     "shell.execute_reply": "2023-12-27T15:13:50.546817Z"
    },
    "papermill": {
     "duration": 0.026614,
     "end_time": "2023-12-27T15:13:50.550117",
     "exception": false,
     "start_time": "2023-12-27T15:13:50.523503",
     "status": "completed"
    },
    "tags": []
   },
   "outputs": [],
   "source": [
    "import warnings\n",
    "warnings.filterwarnings(\"ignore\")"
   ]
  },
  {
   "cell_type": "markdown",
   "id": "77e80cc5",
   "metadata": {
    "papermill": {
     "duration": 0.017027,
     "end_time": "2023-12-27T15:13:50.584597",
     "exception": false,
     "start_time": "2023-12-27T15:13:50.567570",
     "status": "completed"
    },
    "tags": []
   },
   "source": [
    "# Training the model"
   ]
  },
  {
   "cell_type": "code",
   "execution_count": 31,
   "id": "e1d5601c",
   "metadata": {
    "execution": {
     "iopub.execute_input": "2023-12-27T15:13:50.621092Z",
     "iopub.status.busy": "2023-12-27T15:13:50.620133Z",
     "iopub.status.idle": "2023-12-27T15:17:55.861408Z",
     "shell.execute_reply": "2023-12-27T15:17:55.860265Z"
    },
    "papermill": {
     "duration": 245.262477,
     "end_time": "2023-12-27T15:17:55.863903",
     "exception": false,
     "start_time": "2023-12-27T15:13:50.601426",
     "status": "completed"
    },
    "tags": []
   },
   "outputs": [
    {
     "name": "stdout",
     "output_type": "stream",
     "text": [
      "Epoch 1/100\n",
      "133/133 [==============================] - 18s 31ms/step - loss: 0.7367 - accuracy: 0.7060 - precision: 0.7146 - recall: 0.6484 - val_loss: 0.7102 - val_accuracy: 0.7283 - val_precision: 0.7283 - val_recall: 0.7283\n",
      "Epoch 2/100\n",
      "133/133 [==============================] - 2s 18ms/step - loss: 0.7022 - accuracy: 0.7136 - precision: 0.7136 - recall: 0.7136 - val_loss: 0.7198 - val_accuracy: 0.7283 - val_precision: 0.7283 - val_recall: 0.7283\n",
      "Epoch 3/100\n",
      "133/133 [==============================] - 2s 18ms/step - loss: 0.7011 - accuracy: 0.7136 - precision: 0.7136 - recall: 0.7136 - val_loss: 0.7138 - val_accuracy: 0.7283 - val_precision: 0.7283 - val_recall: 0.7283\n",
      "Epoch 4/100\n",
      "133/133 [==============================] - 2s 16ms/step - loss: 0.7040 - accuracy: 0.7136 - precision: 0.7136 - recall: 0.7136 - val_loss: 0.7178 - val_accuracy: 0.7283 - val_precision: 0.7283 - val_recall: 0.7283\n",
      "Epoch 5/100\n",
      "133/133 [==============================] - 2s 16ms/step - loss: 0.7034 - accuracy: 0.7136 - precision: 0.7136 - recall: 0.7136 - val_loss: 0.7181 - val_accuracy: 0.7283 - val_precision: 0.7283 - val_recall: 0.7283\n",
      "Epoch 6/100\n",
      "133/133 [==============================] - 2s 18ms/step - loss: 0.7014 - accuracy: 0.7136 - precision: 0.7136 - recall: 0.7136 - val_loss: 0.7169 - val_accuracy: 0.7283 - val_precision: 0.7283 - val_recall: 0.7283\n",
      "Epoch 7/100\n",
      "133/133 [==============================] - 3s 19ms/step - loss: 0.7034 - accuracy: 0.7136 - precision: 0.7136 - recall: 0.7136 - val_loss: 0.7162 - val_accuracy: 0.7283 - val_precision: 0.7283 - val_recall: 0.7283\n",
      "Epoch 8/100\n",
      "133/133 [==============================] - 2s 16ms/step - loss: 0.6973 - accuracy: 0.7136 - precision: 0.7136 - recall: 0.7136 - val_loss: 0.7173 - val_accuracy: 0.7283 - val_precision: 0.7283 - val_recall: 0.7283\n",
      "Epoch 9/100\n",
      "133/133 [==============================] - 2s 17ms/step - loss: 0.7028 - accuracy: 0.7136 - precision: 0.7136 - recall: 0.7136 - val_loss: 0.7152 - val_accuracy: 0.7283 - val_precision: 0.7283 - val_recall: 0.7283\n",
      "Epoch 10/100\n",
      "133/133 [==============================] - 2s 18ms/step - loss: 0.7024 - accuracy: 0.7136 - precision: 0.7136 - recall: 0.7136 - val_loss: 0.7172 - val_accuracy: 0.7283 - val_precision: 0.7283 - val_recall: 0.7283\n",
      "Epoch 11/100\n",
      "133/133 [==============================] - 2s 17ms/step - loss: 0.6989 - accuracy: 0.7136 - precision: 0.7136 - recall: 0.7136 - val_loss: 0.7159 - val_accuracy: 0.7283 - val_precision: 0.7283 - val_recall: 0.7283\n",
      "Epoch 12/100\n",
      "133/133 [==============================] - 2s 16ms/step - loss: 0.7042 - accuracy: 0.7136 - precision: 0.7136 - recall: 0.7136 - val_loss: 0.7174 - val_accuracy: 0.7283 - val_precision: 0.7283 - val_recall: 0.7283\n",
      "Epoch 13/100\n",
      "133/133 [==============================] - 2s 17ms/step - loss: 0.6995 - accuracy: 0.7136 - precision: 0.7136 - recall: 0.7136 - val_loss: 0.7197 - val_accuracy: 0.7283 - val_precision: 0.7283 - val_recall: 0.7283\n",
      "Epoch 14/100\n",
      "133/133 [==============================] - 2s 18ms/step - loss: 0.6955 - accuracy: 0.7136 - precision: 0.7136 - recall: 0.7136 - val_loss: 0.7179 - val_accuracy: 0.7283 - val_precision: 0.7283 - val_recall: 0.7283\n",
      "Epoch 15/100\n",
      "133/133 [==============================] - 2s 17ms/step - loss: 0.7012 - accuracy: 0.7136 - precision: 0.7136 - recall: 0.7136 - val_loss: 0.7235 - val_accuracy: 0.7283 - val_precision: 0.7283 - val_recall: 0.7283\n",
      "Epoch 16/100\n",
      "133/133 [==============================] - 2s 17ms/step - loss: 0.6711 - accuracy: 0.7136 - precision: 0.7156 - recall: 0.7136 - val_loss: 0.6889 - val_accuracy: 0.7283 - val_precision: 0.7283 - val_recall: 0.7283\n",
      "Epoch 17/100\n",
      "133/133 [==============================] - 2s 18ms/step - loss: 0.5841 - accuracy: 0.7268 - precision: 0.7981 - recall: 0.6314 - val_loss: 0.7076 - val_accuracy: 0.7396 - val_precision: 0.7396 - val_recall: 0.7396\n",
      "Epoch 18/100\n",
      "133/133 [==============================] - 2s 18ms/step - loss: 0.5361 - accuracy: 0.7854 - precision: 0.8020 - recall: 0.7467 - val_loss: 0.7091 - val_accuracy: 0.5472 - val_precision: 0.5472 - val_recall: 0.5472\n",
      "Epoch 19/100\n",
      "133/133 [==============================] - 2s 16ms/step - loss: 0.5078 - accuracy: 0.8100 - precision: 0.8156 - recall: 0.7987 - val_loss: 0.6519 - val_accuracy: 0.7698 - val_precision: 0.7698 - val_recall: 0.7698\n",
      "Epoch 20/100\n",
      "133/133 [==============================] - 2s 17ms/step - loss: 0.4637 - accuracy: 0.8422 - precision: 0.8449 - recall: 0.8393 - val_loss: 0.5805 - val_accuracy: 0.7623 - val_precision: 0.7623 - val_recall: 0.7623\n",
      "Epoch 21/100\n",
      "133/133 [==============================] - 3s 19ms/step - loss: 0.4233 - accuracy: 0.8478 - precision: 0.8538 - recall: 0.8393 - val_loss: 0.5621 - val_accuracy: 0.7585 - val_precision: 0.7778 - val_recall: 0.7396\n",
      "Epoch 22/100\n",
      "133/133 [==============================] - 2s 17ms/step - loss: 0.3864 - accuracy: 0.8629 - precision: 0.8737 - recall: 0.8563 - val_loss: 0.6895 - val_accuracy: 0.6642 - val_precision: 0.6628 - val_recall: 0.6528\n",
      "Epoch 23/100\n",
      "133/133 [==============================] - 2s 16ms/step - loss: 0.3820 - accuracy: 0.8743 - precision: 0.8812 - recall: 0.8620 - val_loss: 0.5747 - val_accuracy: 0.7660 - val_precision: 0.7681 - val_recall: 0.7623\n",
      "Epoch 24/100\n",
      "133/133 [==============================] - 2s 17ms/step - loss: 0.3583 - accuracy: 0.8828 - precision: 0.8880 - recall: 0.8771 - val_loss: 0.5680 - val_accuracy: 0.7774 - val_precision: 0.7808 - val_recall: 0.7660\n",
      "Epoch 25/100\n",
      "133/133 [==============================] - 2s 18ms/step - loss: 0.3367 - accuracy: 0.8866 - precision: 0.8930 - recall: 0.8752 - val_loss: 0.5814 - val_accuracy: 0.7962 - val_precision: 0.8031 - val_recall: 0.7849\n",
      "Epoch 26/100\n",
      "133/133 [==============================] - 2s 17ms/step - loss: 0.3330 - accuracy: 0.8856 - precision: 0.8892 - recall: 0.8800 - val_loss: 0.5956 - val_accuracy: 0.7698 - val_precision: 0.7769 - val_recall: 0.7623\n",
      "Epoch 27/100\n",
      "133/133 [==============================] - 2s 16ms/step - loss: 0.3134 - accuracy: 0.8932 - precision: 0.9004 - recall: 0.8885 - val_loss: 0.5557 - val_accuracy: 0.7736 - val_precision: 0.7778 - val_recall: 0.7660\n",
      "Epoch 28/100\n",
      "133/133 [==============================] - 2s 18ms/step - loss: 0.3036 - accuracy: 0.8894 - precision: 0.9013 - recall: 0.8800 - val_loss: 0.6910 - val_accuracy: 0.7698 - val_precision: 0.7686 - val_recall: 0.7396\n",
      "Epoch 29/100\n",
      "133/133 [==============================] - 2s 18ms/step - loss: 0.2941 - accuracy: 0.8989 - precision: 0.9092 - recall: 0.8894 - val_loss: 0.7733 - val_accuracy: 0.7660 - val_precision: 0.7799 - val_recall: 0.7623\n",
      "Epoch 30/100\n",
      "133/133 [==============================] - 2s 17ms/step - loss: 0.2910 - accuracy: 0.8951 - precision: 0.9102 - recall: 0.8819 - val_loss: 0.8195 - val_accuracy: 0.7585 - val_precision: 0.7743 - val_recall: 0.7509\n",
      "Epoch 31/100\n",
      "133/133 [==============================] - 2s 16ms/step - loss: 0.2827 - accuracy: 0.9064 - precision: 0.9160 - recall: 0.8866 - val_loss: 0.6372 - val_accuracy: 0.7849 - val_precision: 0.7857 - val_recall: 0.7472\n",
      "Epoch 32/100\n",
      "133/133 [==============================] - 2s 18ms/step - loss: 0.2802 - accuracy: 0.9045 - precision: 0.9176 - recall: 0.8941 - val_loss: 0.6896 - val_accuracy: 0.7774 - val_precision: 0.7868 - val_recall: 0.7660\n",
      "Epoch 33/100\n",
      "133/133 [==============================] - 2s 18ms/step - loss: 0.2741 - accuracy: 0.9074 - precision: 0.9231 - recall: 0.8960 - val_loss: 0.7089 - val_accuracy: 0.7811 - val_precision: 0.7868 - val_recall: 0.7660\n",
      "Epoch 34/100\n",
      "133/133 [==============================] - 2s 17ms/step - loss: 0.2583 - accuracy: 0.9140 - precision: 0.9284 - recall: 0.8951 - val_loss: 0.7949 - val_accuracy: 0.7774 - val_precision: 0.7912 - val_recall: 0.7434\n",
      "Epoch 35/100\n",
      "133/133 [==============================] - 2s 18ms/step - loss: 0.2664 - accuracy: 0.9187 - precision: 0.9310 - recall: 0.9055 - val_loss: 0.6165 - val_accuracy: 0.7849 - val_precision: 0.8074 - val_recall: 0.7434\n",
      "Epoch 36/100\n",
      "133/133 [==============================] - 2s 18ms/step - loss: 0.2445 - accuracy: 0.9197 - precision: 0.9308 - recall: 0.9026 - val_loss: 1.1225 - val_accuracy: 0.7849 - val_precision: 0.7849 - val_recall: 0.7849\n",
      "Epoch 37/100\n",
      "133/133 [==============================] - 2s 17ms/step - loss: 0.2550 - accuracy: 0.9102 - precision: 0.9419 - recall: 0.8894 - val_loss: 0.6953 - val_accuracy: 0.7660 - val_precision: 0.7935 - val_recall: 0.7396\n",
      "Epoch 38/100\n",
      "133/133 [==============================] - 2s 16ms/step - loss: 0.2388 - accuracy: 0.9121 - precision: 0.9438 - recall: 0.8885 - val_loss: 0.6925 - val_accuracy: 0.7887 - val_precision: 0.8378 - val_recall: 0.7019\n",
      "Epoch 39/100\n",
      "133/133 [==============================] - 2s 17ms/step - loss: 0.2208 - accuracy: 0.9159 - precision: 0.9523 - recall: 0.8866 - val_loss: 0.9662 - val_accuracy: 0.7660 - val_precision: 0.7710 - val_recall: 0.7623\n",
      "Epoch 40/100\n",
      "133/133 [==============================] - 2s 18ms/step - loss: 0.2338 - accuracy: 0.9149 - precision: 0.9462 - recall: 0.8819 - val_loss: 0.7750 - val_accuracy: 0.7811 - val_precision: 0.8040 - val_recall: 0.7585\n",
      "Epoch 41/100\n",
      "133/133 [==============================] - 2s 17ms/step - loss: 0.2299 - accuracy: 0.9149 - precision: 0.9403 - recall: 0.8932 - val_loss: 0.7291 - val_accuracy: 0.7774 - val_precision: 0.8128 - val_recall: 0.7208\n",
      "Epoch 42/100\n",
      "133/133 [==============================] - 2s 16ms/step - loss: 0.2480 - accuracy: 0.9093 - precision: 0.9421 - recall: 0.8762 - val_loss: 0.7267 - val_accuracy: 0.7736 - val_precision: 0.8235 - val_recall: 0.7396\n",
      "Epoch 43/100\n",
      "133/133 [==============================] - 2s 17ms/step - loss: 0.2189 - accuracy: 0.9206 - precision: 0.9494 - recall: 0.8875 - val_loss: 0.8148 - val_accuracy: 0.7774 - val_precision: 0.8017 - val_recall: 0.7321\n",
      "Epoch 44/100\n",
      "133/133 [==============================] - 2s 18ms/step - loss: 0.2278 - accuracy: 0.9225 - precision: 0.9451 - recall: 0.8951 - val_loss: 0.6794 - val_accuracy: 0.7736 - val_precision: 0.8426 - val_recall: 0.6868\n",
      "Epoch 45/100\n",
      "133/133 [==============================] - 2s 16ms/step - loss: 0.2076 - accuracy: 0.9178 - precision: 0.9459 - recall: 0.8932 - val_loss: 1.0539 - val_accuracy: 0.7774 - val_precision: 0.8174 - val_recall: 0.7094\n",
      "Epoch 46/100\n",
      "133/133 [==============================] - 2s 17ms/step - loss: 0.2122 - accuracy: 0.9187 - precision: 0.9533 - recall: 0.8885 - val_loss: 0.9763 - val_accuracy: 0.7736 - val_precision: 0.7866 - val_recall: 0.7509\n",
      "Epoch 47/100\n",
      "133/133 [==============================] - 2s 18ms/step - loss: 0.2108 - accuracy: 0.9178 - precision: 0.9455 - recall: 0.9017 - val_loss: 0.7506 - val_accuracy: 0.7774 - val_precision: 0.8122 - val_recall: 0.7019\n",
      "Epoch 48/100\n",
      "133/133 [==============================] - 3s 19ms/step - loss: 0.2198 - accuracy: 0.9206 - precision: 0.9506 - recall: 0.8913 - val_loss: 0.7312 - val_accuracy: 0.7736 - val_precision: 0.8026 - val_recall: 0.7057\n",
      "Epoch 49/100\n",
      "133/133 [==============================] - 2s 16ms/step - loss: 0.1924 - accuracy: 0.9263 - precision: 0.9588 - recall: 0.9026 - val_loss: 0.8652 - val_accuracy: 0.7774 - val_precision: 0.8174 - val_recall: 0.7094\n",
      "Epoch 50/100\n",
      "133/133 [==============================] - 2s 17ms/step - loss: 0.2041 - accuracy: 0.9102 - precision: 0.9590 - recall: 0.8847 - val_loss: 0.9463 - val_accuracy: 0.7736 - val_precision: 0.8251 - val_recall: 0.6943\n",
      "Epoch 51/100\n",
      "133/133 [==============================] - 2s 18ms/step - loss: 0.1703 - accuracy: 0.9244 - precision: 0.9768 - recall: 0.8771 - val_loss: 1.1953 - val_accuracy: 0.7811 - val_precision: 0.8133 - val_recall: 0.7396\n",
      "Epoch 52/100\n",
      "133/133 [==============================] - 2s 17ms/step - loss: 0.1996 - accuracy: 0.9263 - precision: 0.9663 - recall: 0.8932 - val_loss: 0.7853 - val_accuracy: 0.7774 - val_precision: 0.8517 - val_recall: 0.6717\n",
      "Epoch 53/100\n",
      "133/133 [==============================] - 2s 16ms/step - loss: 0.1803 - accuracy: 0.9206 - precision: 0.9660 - recall: 0.8875 - val_loss: 0.9426 - val_accuracy: 0.7698 - val_precision: 0.8372 - val_recall: 0.6792\n",
      "Epoch 54/100\n",
      "133/133 [==============================] - 2s 18ms/step - loss: 0.1913 - accuracy: 0.9234 - precision: 0.9690 - recall: 0.8875 - val_loss: 0.9149 - val_accuracy: 0.7849 - val_precision: 0.8423 - val_recall: 0.7057\n",
      "Epoch 55/100\n",
      "133/133 [==============================] - 2s 18ms/step - loss: 0.1831 - accuracy: 0.9244 - precision: 0.9680 - recall: 0.8875 - val_loss: 1.0286 - val_accuracy: 0.7811 - val_precision: 0.8571 - val_recall: 0.7019\n",
      "Epoch 56/100\n",
      "133/133 [==============================] - 2s 17ms/step - loss: 0.1798 - accuracy: 0.9244 - precision: 0.9605 - recall: 0.8960 - val_loss: 0.8342 - val_accuracy: 0.7585 - val_precision: 0.7925 - val_recall: 0.7208\n",
      "Epoch 57/100\n",
      "133/133 [==============================] - 2s 16ms/step - loss: 0.1760 - accuracy: 0.9319 - precision: 0.9692 - recall: 0.8922 - val_loss: 1.1462 - val_accuracy: 0.7811 - val_precision: 0.8268 - val_recall: 0.7208\n",
      "Epoch 58/100\n",
      "133/133 [==============================] - 2s 17ms/step - loss: 0.1703 - accuracy: 0.9206 - precision: 0.9751 - recall: 0.8875 - val_loss: 0.9913 - val_accuracy: 0.7887 - val_precision: 0.8416 - val_recall: 0.7019\n",
      "Epoch 59/100\n",
      "133/133 [==============================] - 2s 19ms/step - loss: 0.1627 - accuracy: 0.9206 - precision: 0.9631 - recall: 0.8875 - val_loss: 1.4819 - val_accuracy: 0.7849 - val_precision: 0.7893 - val_recall: 0.7774\n",
      "Epoch 60/100\n",
      "133/133 [==============================] - 2s 16ms/step - loss: 0.1719 - accuracy: 0.9282 - precision: 0.9654 - recall: 0.8979 - val_loss: 1.1289 - val_accuracy: 0.7698 - val_precision: 0.8348 - val_recall: 0.7057\n",
      "Epoch 61/100\n",
      "133/133 [==============================] - 2s 17ms/step - loss: 0.1714 - accuracy: 0.9263 - precision: 0.9703 - recall: 0.8960 - val_loss: 0.8524 - val_accuracy: 0.7547 - val_precision: 0.8578 - val_recall: 0.6604\n",
      "Epoch 62/100\n",
      "133/133 [==============================] - 3s 19ms/step - loss: 0.1687 - accuracy: 0.9206 - precision: 0.9693 - recall: 0.8941 - val_loss: 0.9425 - val_accuracy: 0.7736 - val_precision: 0.8424 - val_recall: 0.6453\n",
      "Epoch 63/100\n",
      "133/133 [==============================] - 2s 18ms/step - loss: 0.1633 - accuracy: 0.9263 - precision: 0.9774 - recall: 0.8979 - val_loss: 1.1222 - val_accuracy: 0.7736 - val_precision: 0.8248 - val_recall: 0.7283\n",
      "Epoch 64/100\n",
      "133/133 [==============================] - 2s 16ms/step - loss: 0.1547 - accuracy: 0.9253 - precision: 0.9724 - recall: 0.8998 - val_loss: 1.2712 - val_accuracy: 0.7811 - val_precision: 0.7866 - val_recall: 0.7509\n",
      "Epoch 65/100\n",
      "133/133 [==============================] - 2s 17ms/step - loss: 0.1592 - accuracy: 0.9244 - precision: 0.9683 - recall: 0.8951 - val_loss: 0.9626 - val_accuracy: 0.7774 - val_precision: 0.8067 - val_recall: 0.7245\n",
      "Epoch 66/100\n",
      "133/133 [==============================] - 2s 18ms/step - loss: 0.1519 - accuracy: 0.9272 - precision: 0.9743 - recall: 0.8960 - val_loss: 0.9846 - val_accuracy: 0.7547 - val_precision: 0.8246 - val_recall: 0.7094\n",
      "Epoch 67/100\n",
      "133/133 [==============================] - 2s 17ms/step - loss: 0.1432 - accuracy: 0.9272 - precision: 0.9714 - recall: 0.8989 - val_loss: 1.0804 - val_accuracy: 0.7585 - val_precision: 0.8147 - val_recall: 0.7132\n",
      "Epoch 68/100\n",
      "133/133 [==============================] - 2s 16ms/step - loss: 0.1458 - accuracy: 0.9310 - precision: 0.9626 - recall: 0.9008 - val_loss: 1.2439 - val_accuracy: 0.7925 - val_precision: 0.8017 - val_recall: 0.7321\n",
      "Epoch 69/100\n",
      "133/133 [==============================] - 2s 17ms/step - loss: 0.1473 - accuracy: 0.9272 - precision: 0.9675 - recall: 0.8998 - val_loss: 1.3368 - val_accuracy: 0.7660 - val_precision: 0.7840 - val_recall: 0.7396\n",
      "Epoch 70/100\n",
      "133/133 [==============================] - 2s 19ms/step - loss: 0.1572 - accuracy: 0.9376 - precision: 0.9685 - recall: 0.8998 - val_loss: 1.3286 - val_accuracy: 0.7774 - val_precision: 0.8069 - val_recall: 0.7094\n",
      "Epoch 71/100\n",
      "133/133 [==============================] - 2s 16ms/step - loss: 0.1709 - accuracy: 0.9272 - precision: 0.9712 - recall: 0.8932 - val_loss: 1.2118 - val_accuracy: 0.7472 - val_precision: 0.8356 - val_recall: 0.6906\n",
      "Epoch 72/100\n",
      "133/133 [==============================] - 2s 16ms/step - loss: 0.1546 - accuracy: 0.9405 - precision: 0.9696 - recall: 0.9036 - val_loss: 1.2156 - val_accuracy: 0.7283 - val_precision: 0.8348 - val_recall: 0.7057\n",
      "Epoch 73/100\n",
      "133/133 [==============================] - 2s 18ms/step - loss: 0.1545 - accuracy: 0.9319 - precision: 0.9646 - recall: 0.9017 - val_loss: 0.9635 - val_accuracy: 0.7283 - val_precision: 0.8349 - val_recall: 0.6868\n",
      "Epoch 74/100\n",
      "133/133 [==============================] - 2s 18ms/step - loss: 0.1463 - accuracy: 0.9348 - precision: 0.9724 - recall: 0.8979 - val_loss: 0.9352 - val_accuracy: 0.7434 - val_precision: 0.8558 - val_recall: 0.6717\n",
      "Epoch 75/100\n",
      "133/133 [==============================] - 2s 16ms/step - loss: 0.1408 - accuracy: 0.9329 - precision: 0.9703 - recall: 0.8960 - val_loss: 1.1373 - val_accuracy: 0.7358 - val_precision: 0.8182 - val_recall: 0.7132\n",
      "Epoch 76/100\n",
      "133/133 [==============================] - 2s 18ms/step - loss: 0.1363 - accuracy: 0.9310 - precision: 0.9694 - recall: 0.8989 - val_loss: 1.5569 - val_accuracy: 0.7585 - val_precision: 0.7942 - val_recall: 0.7283\n",
      "Epoch 77/100\n",
      "133/133 [==============================] - 2s 18ms/step - loss: 0.1428 - accuracy: 0.9386 - precision: 0.9794 - recall: 0.8998 - val_loss: 1.0817 - val_accuracy: 0.7396 - val_precision: 0.8571 - val_recall: 0.6792\n",
      "Epoch 78/100\n",
      "133/133 [==============================] - 2s 17ms/step - loss: 0.1478 - accuracy: 0.9367 - precision: 0.9687 - recall: 0.9074 - val_loss: 1.0650 - val_accuracy: 0.7358 - val_precision: 0.8517 - val_recall: 0.6717\n",
      "Epoch 79/100\n",
      "133/133 [==============================] - 2s 15ms/step - loss: 0.1479 - accuracy: 0.9291 - precision: 0.9582 - recall: 0.9093 - val_loss: 1.1031 - val_accuracy: 0.7283 - val_precision: 0.8194 - val_recall: 0.6679\n",
      "Epoch 80/100\n",
      "133/133 [==============================] - 2s 17ms/step - loss: 0.1454 - accuracy: 0.9442 - precision: 0.9673 - recall: 0.9225 - val_loss: 0.8923 - val_accuracy: 0.7321 - val_precision: 0.7625 - val_recall: 0.6906\n",
      "Epoch 81/100\n",
      "133/133 [==============================] - 2s 18ms/step - loss: 0.1475 - accuracy: 0.9442 - precision: 0.9626 - recall: 0.9234 - val_loss: 0.8138 - val_accuracy: 0.7472 - val_precision: 0.7588 - val_recall: 0.7358\n",
      "Epoch 82/100\n",
      "133/133 [==============================] - 2s 17ms/step - loss: 0.1417 - accuracy: 0.9386 - precision: 0.9577 - recall: 0.9206 - val_loss: 1.1289 - val_accuracy: 0.7509 - val_precision: 0.7578 - val_recall: 0.7321\n",
      "Epoch 83/100\n",
      "133/133 [==============================] - 2s 17ms/step - loss: 0.1305 - accuracy: 0.9490 - precision: 0.9602 - recall: 0.9357 - val_loss: 1.1046 - val_accuracy: 0.6830 - val_precision: 0.7224 - val_recall: 0.6679\n",
      "Epoch 84/100\n",
      "133/133 [==============================] - 2s 17ms/step - loss: 0.1535 - accuracy: 0.9367 - precision: 0.9595 - recall: 0.9178 - val_loss: 1.1456 - val_accuracy: 0.7208 - val_precision: 0.7657 - val_recall: 0.6906\n",
      "Epoch 85/100\n",
      "133/133 [==============================] - 2s 19ms/step - loss: 0.1602 - accuracy: 0.9376 - precision: 0.9587 - recall: 0.9206 - val_loss: 1.0808 - val_accuracy: 0.7208 - val_precision: 0.7489 - val_recall: 0.6642\n",
      "Epoch 86/100\n",
      "133/133 [==============================] - 2s 17ms/step - loss: 0.1283 - accuracy: 0.9480 - precision: 0.9649 - recall: 0.9357 - val_loss: 1.0464 - val_accuracy: 0.7585 - val_precision: 0.7649 - val_recall: 0.7245\n",
      "Epoch 87/100\n",
      "133/133 [==============================] - 2s 16ms/step - loss: 0.1309 - accuracy: 0.9461 - precision: 0.9593 - recall: 0.9357 - val_loss: 0.8971 - val_accuracy: 0.6943 - val_precision: 0.7425 - val_recall: 0.6528\n",
      "Epoch 88/100\n",
      "133/133 [==============================] - 2s 18ms/step - loss: 0.1248 - accuracy: 0.9433 - precision: 0.9590 - recall: 0.9291 - val_loss: 1.3465 - val_accuracy: 0.7094 - val_precision: 0.7294 - val_recall: 0.7019\n",
      "Epoch 89/100\n",
      "133/133 [==============================] - 2s 18ms/step - loss: 0.1288 - accuracy: 0.9499 - precision: 0.9576 - recall: 0.9395 - val_loss: 1.3158 - val_accuracy: 0.7472 - val_precision: 0.7558 - val_recall: 0.7358\n",
      "Epoch 90/100\n",
      "133/133 [==============================] - 2s 17ms/step - loss: 0.1214 - accuracy: 0.9452 - precision: 0.9602 - recall: 0.9348 - val_loss: 1.7365 - val_accuracy: 0.7472 - val_precision: 0.7519 - val_recall: 0.7434\n",
      "Epoch 91/100\n",
      "133/133 [==============================] - 2s 16ms/step - loss: 0.1369 - accuracy: 0.9480 - precision: 0.9640 - recall: 0.9376 - val_loss: 1.1049 - val_accuracy: 0.7509 - val_precision: 0.7578 - val_recall: 0.7321\n",
      "Epoch 92/100\n",
      "133/133 [==============================] - 2s 18ms/step - loss: 0.1237 - accuracy: 0.9423 - precision: 0.9501 - recall: 0.9357 - val_loss: 1.0618 - val_accuracy: 0.7396 - val_precision: 0.7642 - val_recall: 0.7094\n",
      "Epoch 93/100\n",
      "133/133 [==============================] - 2s 18ms/step - loss: 0.1243 - accuracy: 0.9423 - precision: 0.9566 - recall: 0.9376 - val_loss: 1.0500 - val_accuracy: 0.7208 - val_precision: 0.7650 - val_recall: 0.6755\n",
      "Epoch 94/100\n",
      "133/133 [==============================] - 2s 16ms/step - loss: 0.1302 - accuracy: 0.9433 - precision: 0.9538 - recall: 0.9376 - val_loss: 1.0421 - val_accuracy: 0.7057 - val_precision: 0.7729 - val_recall: 0.6679\n",
      "Epoch 95/100\n",
      "133/133 [==============================] - 2s 17ms/step - loss: 0.1219 - accuracy: 0.9461 - precision: 0.9529 - recall: 0.9367 - val_loss: 1.2575 - val_accuracy: 0.6943 - val_precision: 0.7200 - val_recall: 0.6792\n",
      "Epoch 96/100\n",
      "133/133 [==============================] - 2s 19ms/step - loss: 0.1133 - accuracy: 0.9471 - precision: 0.9511 - recall: 0.9386 - val_loss: 1.1892 - val_accuracy: 0.7358 - val_precision: 0.7413 - val_recall: 0.7245\n",
      "Epoch 97/100\n",
      "133/133 [==============================] - 2s 17ms/step - loss: 0.1128 - accuracy: 0.9509 - precision: 0.9532 - recall: 0.9442 - val_loss: 1.2301 - val_accuracy: 0.7208 - val_precision: 0.7422 - val_recall: 0.7170\n",
      "Epoch 98/100\n",
      "133/133 [==============================] - 2s 16ms/step - loss: 0.1248 - accuracy: 0.9461 - precision: 0.9574 - recall: 0.9348 - val_loss: 1.0083 - val_accuracy: 0.7472 - val_precision: 0.7888 - val_recall: 0.6906\n",
      "Epoch 99/100\n",
      "133/133 [==============================] - 2s 18ms/step - loss: 0.1085 - accuracy: 0.9499 - precision: 0.9579 - recall: 0.9452 - val_loss: 1.2158 - val_accuracy: 0.6377 - val_precision: 0.6525 - val_recall: 0.6377\n",
      "Epoch 100/100\n",
      "133/133 [==============================] - 2s 19ms/step - loss: 0.1236 - accuracy: 0.9423 - precision: 0.9537 - recall: 0.9338 - val_loss: 1.2727 - val_accuracy: 0.6415 - val_precision: 0.6763 - val_recall: 0.6151\n"
     ]
    }
   ],
   "source": [
    "from keras.callbacks import Callback, EarlyStopping\n",
    "#early_stop = EarlyStopping(monitor = \"val_loss\", mode = \"min\", patience = 3)\n",
    "batch_size = 8\n",
    "epochs=100\n",
    "history2 = model.fit(X_train, y_train,\n",
    "                      validation_data=(X_val, y_val),\n",
    "                      batch_size=batch_size, \n",
    "                      epochs=epochs,\n",
    "                      shuffle=True,\n",
    "                       verbose=1)\n",
    "#                      callbacks=[early_stop])"
   ]
  },
  {
   "cell_type": "markdown",
   "id": "d664a403",
   "metadata": {
    "papermill": {
     "duration": 0.289177,
     "end_time": "2023-12-27T15:17:56.515786",
     "exception": false,
     "start_time": "2023-12-27T15:17:56.226609",
     "status": "completed"
    },
    "tags": []
   },
   "source": [
    "# Evaluate model on the test set"
   ]
  },
  {
   "cell_type": "code",
   "execution_count": 32,
   "id": "c445f5a1",
   "metadata": {
    "execution": {
     "iopub.execute_input": "2023-12-27T15:17:57.094236Z",
     "iopub.status.busy": "2023-12-27T15:17:57.093532Z",
     "iopub.status.idle": "2023-12-27T15:17:57.266860Z",
     "shell.execute_reply": "2023-12-27T15:17:57.265715Z"
    },
    "papermill": {
     "duration": 0.465639,
     "end_time": "2023-12-27T15:17:57.269266",
     "exception": false,
     "start_time": "2023-12-27T15:17:56.803627",
     "status": "completed"
    },
    "tags": []
   },
   "outputs": [
    {
     "name": "stdout",
     "output_type": "stream",
     "text": [
      "\n",
      "Accuracy  : 0.6737\n",
      "Precision : 0.7115\n",
      "Recall    : 0.6707\n",
      "F1 Score  : 0.6905\n"
     ]
    }
   ],
   "source": [
    "loss, accuracy, precision, recall = model.evaluate(X_test, y_test, verbose=0)\n",
    "# Print metrics\n",
    "print('')\n",
    "print('Accuracy  : {:.4f}'.format(accuracy))\n",
    "print('Precision : {:.4f}'.format(precision))\n",
    "print('Recall    : {:.4f}'.format(recall))\n",
    "print('F1 Score  : {:.4f}'.format(f1_score(precision, recall)))"
   ]
  },
  {
   "cell_type": "markdown",
   "id": "3dc7a4d7",
   "metadata": {
    "papermill": {
     "duration": 0.288595,
     "end_time": "2023-12-27T15:17:57.848118",
     "exception": false,
     "start_time": "2023-12-27T15:17:57.559523",
     "status": "completed"
    },
    "tags": []
   },
   "source": [
    "# Save the model architecture & the weights"
   ]
  },
  {
   "cell_type": "code",
   "execution_count": 33,
   "id": "af4ffee5",
   "metadata": {
    "execution": {
     "iopub.execute_input": "2023-12-27T15:17:58.480858Z",
     "iopub.status.busy": "2023-12-27T15:17:58.479518Z",
     "iopub.status.idle": "2023-12-27T15:17:58.485756Z",
     "shell.execute_reply": "2023-12-27T15:17:58.484742Z"
    },
    "papermill": {
     "duration": 0.34967,
     "end_time": "2023-12-27T15:17:58.487861",
     "exception": false,
     "start_time": "2023-12-27T15:17:58.138191",
     "status": "completed"
    },
    "tags": []
   },
   "outputs": [],
   "source": [
    "# model.save('model.h5')\n",
    "# print('Model saved')"
   ]
  },
  {
   "cell_type": "markdown",
   "id": "d4834ed3",
   "metadata": {
    "execution": {
     "iopub.execute_input": "2022-09-29T12:19:03.401918Z",
     "iopub.status.busy": "2022-09-29T12:19:03.401281Z",
     "iopub.status.idle": "2022-09-29T12:19:03.40719Z",
     "shell.execute_reply": "2022-09-29T12:19:03.405546Z",
     "shell.execute_reply.started": "2022-09-29T12:19:03.401883Z"
    },
    "papermill": {
     "duration": 0.29201,
     "end_time": "2023-12-27T15:17:59.078151",
     "exception": false,
     "start_time": "2023-12-27T15:17:58.786141",
     "status": "completed"
    },
    "tags": []
   },
   "source": [
    "# Loaing the model"
   ]
  },
  {
   "cell_type": "code",
   "execution_count": 34,
   "id": "9b2e864b",
   "metadata": {
    "execution": {
     "iopub.execute_input": "2023-12-27T15:17:59.693456Z",
     "iopub.status.busy": "2023-12-27T15:17:59.692414Z",
     "iopub.status.idle": "2023-12-27T15:17:59.699986Z",
     "shell.execute_reply": "2023-12-27T15:17:59.699010Z"
    },
    "papermill": {
     "duration": 0.331621,
     "end_time": "2023-12-27T15:17:59.702215",
     "exception": false,
     "start_time": "2023-12-27T15:17:59.370594",
     "status": "completed"
    },
    "tags": []
   },
   "outputs": [],
   "source": [
    "# from keras.models import load_model\n",
    "\n",
    "# # Load model\n",
    "# model = load_model('model.h5')\n",
    "\n",
    "def predict_class(text):\n",
    "    '''Function to predict sentiment class of the passed text'''\n",
    "    \n",
    "    sentiment_classes = [-1, 0, 1]\n",
    "    max_len=32\n",
    "    \n",
    "    # Transforms text to a sequence of integers using a tokenizer object\n",
    "    xt = tokenizer.texts_to_sequences(text)\n",
    "    # Pad sequences to the same length\n",
    "    xt = pad_sequences(xt, padding='post', maxlen=max_len)\n",
    "    # Do the prediction using the loaded model\n",
    "    yt = model.predict(xt).argmax(axis=1)\n",
    "    # Print the predicted sentiment\n",
    "    print('The predicted sentiment is', sentiment_classes[yt[0]])"
   ]
  },
  {
   "cell_type": "code",
   "execution_count": 35,
   "id": "5bb721fa",
   "metadata": {
    "execution": {
     "iopub.execute_input": "2023-12-27T15:18:00.297157Z",
     "iopub.status.busy": "2023-12-27T15:18:00.296700Z",
     "iopub.status.idle": "2023-12-27T15:18:01.720610Z",
     "shell.execute_reply": "2023-12-27T15:18:01.719138Z"
    },
    "papermill": {
     "duration": 1.722597,
     "end_time": "2023-12-27T15:18:01.723121",
     "exception": false,
     "start_time": "2023-12-27T15:18:00.000524",
     "status": "completed"
    },
    "tags": []
   },
   "outputs": [
    {
     "name": "stdout",
     "output_type": "stream",
     "text": [
      "The predicted sentiment is 1\n"
     ]
    }
   ],
   "source": [
    "predict_class(['government stop crypto trading, future of crypto is in trouble'])"
   ]
  },
  {
   "cell_type": "markdown",
   "id": "72887fa9",
   "metadata": {
    "execution": {
     "iopub.execute_input": "2022-10-09T11:54:58.288749Z",
     "iopub.status.busy": "2022-10-09T11:54:58.288333Z",
     "iopub.status.idle": "2022-10-09T11:54:58.293437Z",
     "shell.execute_reply": "2022-10-09T11:54:58.29209Z",
     "shell.execute_reply.started": "2022-10-09T11:54:58.288716Z"
    },
    "papermill": {
     "duration": 0.323768,
     "end_time": "2023-12-27T15:18:02.396381",
     "exception": false,
     "start_time": "2023-12-27T15:18:02.072613",
     "status": "completed"
    },
    "tags": []
   },
   "source": [
    "## Datasets going to use in future"
   ]
  },
  {
   "cell_type": "markdown",
   "id": "a51ff707",
   "metadata": {
    "papermill": {
     "duration": 0.298899,
     "end_time": "2023-12-27T15:18:03.007724",
     "exception": false,
     "start_time": "2023-12-27T15:18:02.708825",
     "status": "completed"
    },
    "tags": []
   },
   "source": [
    "https://www.kaggle.com/datasets/shivamb/go-emotions-google-emotions-dataset\n",
    "\n",
    "https://www.kaggle.com/datasets/avisheksood/stock-news-sentiment-analysismassive-dataset\n",
    "\n",
    "https://www.kaggle.com/datasets/ankurzing/sentiment-analysis-in-commodity-market-gold\n",
    "\n",
    "https://www.kaggle.com/datasets/ankurzing/aspect-based-sentiment-analysis-for-financial-news\n",
    "\n",
    "https://www.kaggle.com/datasets/kazanova/sentiment140"
   ]
  },
  {
   "cell_type": "markdown",
   "id": "9f41cd32",
   "metadata": {
    "papermill": {
     "duration": 0.293256,
     "end_time": "2023-12-27T15:18:03.601213",
     "exception": false,
     "start_time": "2023-12-27T15:18:03.307957",
     "status": "completed"
    },
    "tags": []
   },
   "source": [
    "# References\n",
    "\n",
    "[How Positional Embeddings work in Self-Attention](https://theaisummer.com/positional-embeddings/)"
   ]
  },
  {
   "cell_type": "code",
   "execution_count": null,
   "id": "4be6f529",
   "metadata": {
    "papermill": {
     "duration": 0.290302,
     "end_time": "2023-12-27T15:18:04.185601",
     "exception": false,
     "start_time": "2023-12-27T15:18:03.895299",
     "status": "completed"
    },
    "tags": []
   },
   "outputs": [],
   "source": []
  }
 ],
 "metadata": {
  "kaggle": {
   "accelerator": "gpu",
   "dataSources": [
    {
     "datasetId": 2512425,
     "sourceId": 4516705,
     "sourceType": "datasetVersion"
    },
    {
     "datasetId": 4228747,
     "sourceId": 7291211,
     "sourceType": "datasetVersion"
    }
   ],
   "dockerImageVersionId": 30262,
   "isGpuEnabled": true,
   "isInternetEnabled": true,
   "language": "python",
   "sourceType": "notebook"
  },
  "kernelspec": {
   "display_name": "Python 3",
   "language": "python",
   "name": "python3"
  },
  "language_info": {
   "codemirror_mode": {
    "name": "ipython",
    "version": 3
   },
   "file_extension": ".py",
   "mimetype": "text/x-python",
   "name": "python",
   "nbconvert_exporter": "python",
   "pygments_lexer": "ipython3",
   "version": "3.7.12"
  },
  "papermill": {
   "default_parameters": {},
   "duration": 296.788819,
   "end_time": "2023-12-27T15:18:08.310813",
   "environment_variables": {},
   "exception": null,
   "input_path": "__notebook__.ipynb",
   "output_path": "__notebook__.ipynb",
   "parameters": {},
   "start_time": "2023-12-27T15:13:11.521994",
   "version": "2.3.4"
  }
 },
 "nbformat": 4,
 "nbformat_minor": 5
}
